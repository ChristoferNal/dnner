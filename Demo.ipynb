{
 "cells": [
  {
   "cell_type": "code",
   "execution_count": 1,
   "metadata": {},
   "outputs": [],
   "source": [
    "import numpy as np\n",
    "import matplotlib.pyplot as plt\n",
    "plt.rcParams[\"figure.figsize\"] = (8, 8)\n",
    "plt.rcParams[\"font.size\"] = 14\n",
    "\n",
    "import warnings\n",
    "warnings.filterwarnings(\"ignore\")"
   ]
  },
  {
   "cell_type": "markdown",
   "metadata": {},
   "source": [
    "# Demo for \"Entropies and Mutual Informations in Models of Deep Neural Networks\""
   ]
  },
  {
   "cell_type": "markdown",
   "metadata": {},
   "source": [
    "In this notebook we demonstrate how to compute entropies and mutual informations using the `dnner` package. Let us start by importing `dnner` and some of the possible activations (`ReLU`, `HardTanh`) and priors (`Normal`). We also gonna use the ensemble `Empirical` which allows the computation for arbitrary finite-size spectra."
   ]
  },
  {
   "cell_type": "code",
   "execution_count": 2,
   "metadata": {},
   "outputs": [],
   "source": [
    "import dnner\n",
    "from dnner.activations import ReLU, HardTanh\n",
    "from dnner.priors import Normal\n",
    "from dnner.ensembles import Empirical"
   ]
  },
  {
   "cell_type": "markdown",
   "metadata": {},
   "source": [
    "The main function to be used is `dnner.compute_entropy`, which take as arguments `layers` and `weights`; `layers` is a list consisting of one prior and an arbitrary number of activations, for instance"
   ]
  },
  {
   "cell_type": "code",
   "execution_count": 3,
   "metadata": {},
   "outputs": [],
   "source": [
    "layers = [Normal(0, 1), ReLU(0), HardTanh(1e-5)]"
   ]
  },
  {
   "cell_type": "markdown",
   "metadata": {},
   "source": [
    "The arguments of the first entry give the parameters of the prior distribution (in this case a Normal distribution of zero mean and unit variance), whereas the remaining are related to the noise injected at each layer for the computation -- this noise is typically needed to make sure the entropy/mutual information does not diverge.\n",
    "\n",
    "We then define `weights` using 2D arrays of arbitrary size -- the larger the better, as our scheme assumes large sizes. Let's assume for this example that both layers consist of random Gaussian weights of size $N \\times N$ and variance $1/N$, $N = 1000$"
   ]
  },
  {
   "cell_type": "code",
   "execution_count": 4,
   "metadata": {},
   "outputs": [],
   "source": [
    "np.random.seed(42)\n",
    "W1 = np.random.randn(1000, 1000) / np.sqrt(1000)\n",
    "W2 = np.random.randn(1000, 1000) / np.sqrt(1000)\n",
    "weights = [W1, W2]"
   ]
  },
  {
   "cell_type": "markdown",
   "metadata": {},
   "source": [
    "After defining them, we can just run"
   ]
  },
  {
   "cell_type": "code",
   "execution_count": 5,
   "metadata": {},
   "outputs": [
    {
     "data": {
      "text/plain": [
       "-0.7916758921010114"
      ]
     },
     "execution_count": 5,
     "metadata": {},
     "output_type": "execute_result"
    }
   ],
   "source": [
    "dnner.compute_entropy(layers, weights)"
   ]
  },
  {
   "cell_type": "markdown",
   "metadata": {},
   "source": [
    "So for this choice of model and weights, we get $\\lim_{N_X \\to \\infty} N_X^{-1} H ({\\bf Y} | W_1, W_2) = -0.7916...$\n",
    "\n",
    "If we want to have a better grasp of what is going on, we can use the `verbose = 1` argument, which shows the output of the iteration used to extremize $\\phi ({\\bf A}, {\\bf V}, {\\bf {\\tilde A}}, {\\bf {\\tilde V}})$."
   ]
  },
  {
   "cell_type": "code",
   "execution_count": 6,
   "metadata": {},
   "outputs": [
    {
     "name": "stdout",
     "output_type": "stream",
     "text": [
      "t = 0, conv = 2.35209e-05\n",
      "layer 0: a = 42158.6, v_in = 9.99708e-11, a_in = 42514.3, v = 2.3521e-05\n",
      "layer 1: a = 84206.1, v_in = 1.00175e-10, a_in = 84317.9, v = 4.9985e-11\n",
      "got entropy = 1.46491 starting from v0 = [1e-10, 1e-10]\n",
      "t = 0, conv = 0.449527\n",
      "layer 0: a = 0.81564, v_in = 0.999708, a_in = 0.816598, v = 0.550479\n",
      "layer 1: a = 84206.1, v_in = 1.00175e-10, a_in = 84317.9, v = 6.07879e-06\n",
      "t = 1, conv = 0.12606\n",
      "layer 0: a = 1.35583, v_in = 0.550328, a_in = 1.35614, v = 0.424423\n",
      "layer 1: a = 52337.5, v_in = 6.08914e-06, a_in = 52450.6, v = 9.84711e-06\n",
      "t = 2, conv = 0.0531025\n",
      "layer 0: a = 1.693, v_in = 0.424301, a_in = 1.69307, v = 0.371323\n",
      "layer 1: a = 42391.9, v_in = 9.86375e-06, a_in = 42475.2, v = 1.21802e-05\n",
      "t = 3, conv = 0.0263374\n",
      "layer 0: a = 1.89871, v_in = 0.371235, a_in = 1.89866, v = 0.344987\n",
      "layer 1: a = 37929.4, v_in = 1.22007e-05, a_in = 37999.5, v = 1.36272e-05\n",
      "t = 4, conv = 0.0141524\n",
      "layer 0: a = 2.02277, v_in = 0.344922, a_in = 2.02265, v = 0.330835\n",
      "layer 1: a = 35604.7, v_in = 1.36502e-05, a_in = 35668.3, v = 1.45236e-05\n",
      "t = 5, conv = 0.00793819\n",
      "layer 0: a = 2.09711, v_in = 0.330785, a_in = 2.09696, v = 0.322898\n",
      "layer 1: a = 34302.4, v_in = 1.45481e-05, a_in = 34362.5, v = 1.50789e-05\n",
      "t = 6, conv = 0.00456045\n",
      "layer 0: a = 2.14149, v_in = 0.322857, a_in = 2.14132, v = 0.318338\n",
      "layer 1: a = 33542.4, v_in = 1.51043e-05, a_in = 33600.1, v = 1.5422e-05\n",
      "t = 7, conv = 0.00265615\n",
      "layer 0: a = 2.16793, v_in = 0.318302, a_in = 2.16775, v = 0.315682\n",
      "layer 1: a = 33089.4, v_in = 1.54479e-05, a_in = 33145.9, v = 1.56357e-05\n",
      "t = 8, conv = 0.00156012\n",
      "layer 0: a = 2.18367, v_in = 0.315647, a_in = 2.18348, v = 0.314122\n",
      "layer 1: a = 32813.4, v_in = 1.5662e-05, a_in = 32869.1, v = 1.57672e-05\n",
      "t = 9, conv = 0.000919164\n",
      "layer 0: a = 2.19302, v_in = 0.314091, a_in = 2.19282, v = 0.313203\n",
      "layer 1: a = 32645.7, v_in = 1.57938e-05, a_in = 32701, v = 1.58496e-05\n",
      "got entropy = -0.79167 starting from v0 = [1, 1e-10]\n",
      "t = 0, conv = 0.563815\n",
      "layer 0: a = 0.322347, v_in = 0.999708, a_in = 0.322292, v = 0.756263\n",
      "layer 1: a = 1.94618, v_in = 0.501062, a_in = 1.93108, v = 0.180111\n",
      "t = 1, conv = 0.218705\n",
      "layer 0: a = 0.583708, v_in = 0.756214, a_in = 0.58355, v = 0.631492\n",
      "layer 1: a = 5.25283, v_in = 0.18049, a_in = 5.2257, v = 0.086176\n",
      "t = 2, conv = 0.117938\n",
      "layer 0: a = 0.810043, v_in = 0.631358, a_in = 0.809801, v = 0.552547\n",
      "layer 1: a = 10.7208, v_in = 0.0863375, a_in = 10.6805, v = 0.0471839\n",
      "t = 3, conv = 0.0735561\n",
      "layer 0: a = 1.00699, v_in = 0.552395, a_in = 1.00669, v = 0.498332\n",
      "layer 1: a = 19.2229, v_in = 0.0472651, a_in = 19.1683, v = 0.0278425\n",
      "t = 4, conv = 0.0499456\n",
      "layer 0: a = 1.17878, v_in = 0.498183, a_in = 1.17845, v = 0.459042\n",
      "layer 1: a = 32.1116, v_in = 0.0278877, a_in = 32.0396, v = 0.0171873\n",
      "t = 5, conv = 0.0358368\n",
      "layer 0: a = 1.32873, v_in = 0.458906, a_in = 1.32839, v = 0.429482\n",
      "layer 1: a = 51.426, v_in = 0.0172143, a_in = 51.3311, v = 0.01091\n",
      "t = 6, conv = 0.0267168\n",
      "layer 0: a = 1.45958, v_in = 0.429358, a_in = 1.45923, v = 0.406631\n",
      "layer 1: a = 80.2595, v_in = 0.0109267, a_in = 80.1341, v = 0.00704422\n",
      "t = 7, conv = 0.0204752\n",
      "layer 0: a = 1.57364, v_in = 0.406519, a_in = 1.57329, v = 0.388607\n",
      "layer 1: a = 123.33, v_in = 0.00705488, a_in = 123.163, v = 0.00459287\n",
      "t = 8, conv = 0.0158163\n",
      "layer 0: a = 1.67175, v_in = 0.388507, a_in = 1.67141, v = 0.374334\n",
      "layer 1: a = 185.288, v_in = 0.0045998, a_in = 185.121, v = 0.00305019\n",
      "t = 9, conv = 0.0123986\n",
      "layer 0: a = 1.75566, v_in = 0.374244, a_in = 1.75534, v = 0.362931\n",
      "layer 1: a = 273.93, v_in = 0.00305481, a_in = 273.768, v = 0.00205393\n",
      "t = 10, conv = 0.00999246\n",
      "layer 0: a = 1.82823, v_in = 0.362851, a_in = 1.82792, v = 0.353617\n",
      "layer 1: a = 406.549, v_in = 0.00205707, a_in = 406.312, v = 0.00137586\n",
      "t = 11, conv = 0.00816268\n",
      "layer 0: a = 1.89118, v_in = 0.353544, a_in = 1.8909, v = 0.345913\n",
      "layer 1: a = 605.864, v_in = 0.00137798, a_in = 605.528, v = 0.000916765\n",
      "t = 12, conv = 0.00671796\n",
      "layer 0: a = 1.94575, v_in = 0.345848, a_in = 1.94547, v = 0.339504\n",
      "layer 1: a = 906.401, v_in = 0.000918185, a_in = 905.94, v = 0.000608039\n",
      "t = 13, conv = 0.00555185\n",
      "layer 0: a = 1.99286, v_in = 0.339445, a_in = 1.99259, v = 0.334158\n",
      "layer 1: a = 1359.57, v_in = 0.000608993, a_in = 1358.98, v = 0.000402079\n",
      "t = 14, conv = 0.00459512\n",
      "layer 0: a = 2.03331, v_in = 0.334105, a_in = 2.03307, v = 0.329699\n",
      "layer 1: a = 2039.5, v_in = 0.000402716, a_in = 2038.82, v = 0.000265849\n",
      "t = 15, conv = 0.00379678\n",
      "layer 0: a = 2.06779, v_in = 0.329651, a_in = 2.06756, v = 0.325992\n",
      "layer 1: a = 3047.15, v_in = 0.000266274, a_in = 3046.57, v = 0.00017653\n",
      "t = 16, conv = 0.0031253\n",
      "layer 0: a = 2.09692, v_in = 0.325946, a_in = 2.0967, v = 0.322925\n",
      "layer 1: a = 4506.72, v_in = 0.000176815, a_in = 4506.69, v = 0.00011847\n",
      "t = 17, conv = 0.00255255\n",
      "layer 0: a = 2.12123, v_in = 0.322884, a_in = 2.12101, v = 0.32041\n",
      "layer 1: a = 6544.01, v_in = 0.000118663, a_in = 6545.43, v = 8.10397e-05\n",
      "t = 18, conv = 0.00206637\n",
      "layer 0: a = 2.14124, v_in = 0.320371, a_in = 2.14103, v = 0.318367\n",
      "layer 1: a = 9235.22, v_in = 8.1173e-05, a_in = 9239.52, v = 5.7085e-05\n",
      "t = 19, conv = 0.001649\n",
      "layer 0: a = 2.15743, v_in = 0.318331, a_in = 2.15723, v = 0.316733\n",
      "layer 1: a = 12533.9, v_in = 5.71794e-05, a_in = 12543, v = 4.1853e-05\n",
      "t = 20, conv = 0.00129375\n",
      "layer 0: a = 2.17028, v_in = 0.3167, a_in = 2.17008, v = 0.315449\n",
      "layer 1: a = 16217.1, v_in = 4.19226e-05, a_in = 16232.7, v = 3.22188e-05\n",
      "t = 21, conv = 0.000995529\n",
      "layer 0: a = 2.18026, v_in = 0.315415, a_in = 2.18006, v = 0.31446\n",
      "layer 1: a = 19919.4, v_in = 3.22726e-05, a_in = 19942.6, v = 2.61554e-05\n",
      "got entropy = -0.780684 starting from v0 = [1, 0.5001893340940075]\n",
      "t = 0, conv = 0.000543451\n",
      "layer 0: a = 2.19857, v_in = 0.313173, a_in = 2.19837, v = 0.312659\n",
      "layer 1: a = 32541.6, v_in = 1.58763e-05, a_in = 32596.5, v = 1.59012e-05\n",
      "t = 1, conv = 0.000321757\n",
      "layer 0: a = 2.20187, v_in = 0.31263, a_in = 2.20167, v = 0.312337\n",
      "layer 1: a = 32476.7, v_in = 1.5928e-05, a_in = 32531.5, v = 1.59314e-05\n",
      "t = 2, conv = 0.000191298\n",
      "layer 0: a = 2.20383, v_in = 0.312308, a_in = 2.20363, v = 0.312146\n",
      "layer 1: a = 32438.9, v_in = 1.59582e-05, a_in = 32493.5, v = 1.59531e-05\n",
      "t = 3, conv = 0.000113304\n",
      "layer 0: a = 2.205, v_in = 0.312117, a_in = 2.20479, v = 0.312033\n",
      "layer 1: a = 32411.7, v_in = 1.598e-05, a_in = 32466.3, v = 1.59647e-05\n",
      "t = 4, conv = 6.71772e-05\n",
      "layer 0: a = 2.20569, v_in = 0.312004, a_in = 2.20548, v = 0.311966\n",
      "layer 1: a = 32397.3, v_in = 1.59915e-05, a_in = 32451.9, v = 1.59727e-05\n",
      "t = 5, conv = 3.97992e-05\n",
      "layer 0: a = 2.2061, v_in = 0.311936, a_in = 2.20589, v = 0.311926\n",
      "layer 1: a = 32387.3, v_in = 1.59995e-05, a_in = 32441.9, v = 1.59776e-05\n",
      "t = 6, conv = 2.3575e-05\n",
      "layer 0: a = 2.20634, v_in = 0.311897, a_in = 2.20613, v = 0.311902\n",
      "layer 1: a = 32381.2, v_in = 1.60045e-05, a_in = 32435.7, v = 1.59791e-05\n",
      "t = 7, conv = 1.40108e-05\n",
      "layer 0: a = 2.20648, v_in = 0.311873, a_in = 2.20628, v = 0.311888\n",
      "layer 1: a = 32379.3, v_in = 1.6006e-05, a_in = 32433.8, v = 1.59803e-05\n",
      "t = 8, conv = 8.31926e-06\n",
      "layer 0: a = 2.20657, v_in = 0.311859, a_in = 2.20636, v = 0.31188\n",
      "layer 1: a = 32377.9, v_in = 1.60072e-05, a_in = 32432.3, v = 1.59819e-05\n",
      "t = 9, conv = 4.9077e-06\n",
      "layer 0: a = 2.20662, v_in = 0.311851, a_in = 2.20641, v = 0.311875\n",
      "layer 1: a = 32375.8, v_in = 1.60088e-05, a_in = 32430.3, v = 1.59826e-05\n",
      "t = 10, conv = 2.90688e-06\n",
      "layer 0: a = 2.20665, v_in = 0.311846, a_in = 2.20644, v = 0.311872\n",
      "layer 1: a = 32375, v_in = 1.60095e-05, a_in = 32429.4, v = 1.59826e-05\n",
      "t = 11, conv = 1.73529e-06\n",
      "layer 0: a = 2.20667, v_in = 0.311843, a_in = 2.20646, v = 0.31187\n",
      "layer 1: a = 32375, v_in = 1.60095e-05, a_in = 32429.5, v = 1.59825e-05\n",
      "t = 12, conv = 1.03677e-06\n",
      "layer 0: a = 2.20668, v_in = 0.311841, a_in = 2.20647, v = 0.311869\n",
      "layer 1: a = 32375, v_in = 1.60094e-05, a_in = 32429.5, v = 1.59834e-05\n",
      "t = 13, conv = 5.90652e-07\n",
      "layer 0: a = 2.20668, v_in = 0.31184, a_in = 2.20648, v = 0.311869\n",
      "layer 1: a = 32374, v_in = 1.60103e-05, a_in = 32428.5, v = 1.59838e-05\n",
      "t = 14, conv = 3.37034e-07\n",
      "layer 0: a = 2.20669, v_in = 0.31184, a_in = 2.20648, v = 0.311868\n",
      "layer 1: a = 32373.4, v_in = 1.60107e-05, a_in = 32427.9, v = 1.5984e-05\n",
      "t = 15, conv = 1.94897e-07\n",
      "layer 0: a = 2.20669, v_in = 0.311839, a_in = 2.20648, v = 0.311868\n",
      "layer 1: a = 32373.2, v_in = 1.60109e-05, a_in = 32427.6, v = 1.59842e-05\n"
     ]
    },
    {
     "name": "stdout",
     "output_type": "stream",
     "text": [
      "t = 16, conv = 1.12322e-07\n",
      "layer 0: a = 2.20669, v_in = 0.311839, a_in = 2.20648, v = 0.311868\n",
      "layer 1: a = 32373, v_in = 1.60111e-05, a_in = 32427.5, v = 1.59842e-05\n",
      "t = 17, conv = 6.49405e-08\n",
      "layer 0: a = 2.20669, v_in = 0.311839, a_in = 2.20648, v = 0.311868\n",
      "layer 1: a = 32372.9, v_in = 1.60111e-05, a_in = 32427.4, v = 1.59843e-05\n",
      "t = 18, conv = 3.76702e-08\n",
      "layer 0: a = 2.20669, v_in = 0.311839, a_in = 2.20648, v = 0.311868\n",
      "layer 1: a = 32372.9, v_in = 1.60112e-05, a_in = 32427.4, v = 1.59843e-05\n",
      "t = 19, conv = 2.19275e-08\n",
      "layer 0: a = 2.20669, v_in = 0.311839, a_in = 2.20648, v = 0.311868\n",
      "layer 1: a = 32372.9, v_in = 1.60112e-05, a_in = 32427.3, v = 1.59843e-05\n",
      "t = 20, conv = 1.28109e-08\n",
      "layer 0: a = 2.20669, v_in = 0.311839, a_in = 2.20648, v = 0.311868\n",
      "layer 1: a = 32372.9, v_in = 1.60112e-05, a_in = 32427.3, v = 1.59843e-05\n",
      "t = 21, conv = 7.51385e-09\n",
      "layer 0: a = 2.20669, v_in = 0.311839, a_in = 2.20648, v = 0.311868\n",
      "layer 1: a = 32372.9, v_in = 1.60112e-05, a_in = 32427.3, v = 1.59843e-05\n",
      "t = 22, conv = 4.4252e-09\n",
      "layer 0: a = 2.20669, v_in = 0.311839, a_in = 2.20648, v = 0.311868\n",
      "layer 1: a = 32372.8, v_in = 1.60112e-05, a_in = 32427.3, v = 1.59843e-05\n",
      "t = 23, conv = 2.61745e-09\n",
      "layer 0: a = 2.20669, v_in = 0.311839, a_in = 2.20648, v = 0.311868\n",
      "layer 1: a = 32372.8, v_in = 1.60112e-05, a_in = 32427.3, v = 1.59843e-05\n",
      "t = 24, conv = 1.55519e-09\n",
      "layer 0: a = 2.20669, v_in = 0.311839, a_in = 2.20648, v = 0.311868\n",
      "layer 1: a = 32372.8, v_in = 1.60112e-05, a_in = 32427.3, v = 1.59843e-05\n",
      "t = 25, conv = 9.28466e-10\n",
      "layer 0: a = 2.20669, v_in = 0.311839, a_in = 2.20648, v = 0.311868\n",
      "layer 1: a = 32372.8, v_in = 1.60112e-05, a_in = 32427.3, v = 1.59843e-05\n",
      "t = 26, conv = 5.5694e-10\n",
      "layer 0: a = 2.20669, v_in = 0.311839, a_in = 2.20648, v = 0.311868\n",
      "layer 1: a = 32372.8, v_in = 1.60112e-05, a_in = 32427.3, v = 1.59843e-05\n",
      "t = 27, conv = 3.35689e-10\n",
      "layer 0: a = 2.20669, v_in = 0.311839, a_in = 2.20648, v = 0.311868\n",
      "layer 1: a = 32372.8, v_in = 1.60112e-05, a_in = 32427.3, v = 1.59843e-05\n",
      "t = 28, conv = 2.0331e-10\n",
      "layer 0: a = 2.20669, v_in = 0.311839, a_in = 2.20648, v = 0.311868\n",
      "layer 1: a = 32372.8, v_in = 1.60112e-05, a_in = 32427.3, v = 1.59843e-05\n",
      "t = 29, conv = 1.23726e-10\n",
      "layer 0: a = 2.20669, v_in = 0.311839, a_in = 2.20648, v = 0.311868\n",
      "layer 1: a = 32372.8, v_in = 1.60112e-05, a_in = 32427.3, v = 1.59843e-05\n",
      "t = 30, conv = 7.56502e-11\n",
      "layer 0: a = 2.20669, v_in = 0.311839, a_in = 2.20648, v = 0.311868\n",
      "layer 1: a = 32372.8, v_in = 1.60112e-05, a_in = 32427.3, v = 1.59843e-05\n",
      "t = 31, conv = 4.64688e-11\n",
      "layer 0: a = 2.20669, v_in = 0.311839, a_in = 2.20648, v = 0.311868\n",
      "layer 1: a = 32372.8, v_in = 1.60112e-05, a_in = 32427.3, v = 1.59843e-05\n",
      "t = 32, conv = 2.86705e-11\n",
      "layer 0: a = 2.20669, v_in = 0.311839, a_in = 2.20648, v = 0.311868\n",
      "layer 1: a = 32372.8, v_in = 1.60112e-05, a_in = 32427.3, v = 1.59843e-05\n",
      "t = 33, conv = 1.77645e-11\n",
      "layer 0: a = 2.20669, v_in = 0.311839, a_in = 2.20648, v = 0.311868\n",
      "layer 1: a = 32372.8, v_in = 1.60112e-05, a_in = 32427.3, v = 1.59843e-05\n",
      "t = 34, conv = 1.10525e-11\n",
      "layer 0: a = 2.20669, v_in = 0.311839, a_in = 2.20648, v = 0.311868\n",
      "layer 1: a = 32372.8, v_in = 1.60112e-05, a_in = 32427.3, v = 1.59843e-05\n",
      "t = 35, conv = 6.90166e-12\n",
      "layer 0: a = 2.20669, v_in = 0.311839, a_in = 2.20648, v = 0.311868\n",
      "layer 1: a = 32372.8, v_in = 1.60112e-05, a_in = 32427.3, v = 1.59843e-05\n"
     ]
    },
    {
     "data": {
      "text/plain": [
       "-0.7916758921010114"
      ]
     },
     "execution_count": 6,
     "metadata": {},
     "output_type": "execute_result"
    }
   ],
   "source": [
    "dnner.compute_entropy(layers, weights, verbose=1)"
   ]
  },
  {
   "cell_type": "markdown",
   "metadata": {},
   "source": [
    "## Entropies at initialization: reproducing Figure 2"
   ]
  },
  {
   "cell_type": "markdown",
   "metadata": {},
   "source": [
    "Let's set up an experiment to see how the entropy changes as a function of the weight scaling. We first write a function which takes an arbitrary choice of layers"
   ]
  },
  {
   "cell_type": "code",
   "execution_count": 7,
   "metadata": {},
   "outputs": [],
   "source": [
    "def run_experiment(layers, weight_stds):\n",
    "    \"\"\"Tries different weight variances for fixed layers\"\"\"\n",
    "\n",
    "    n_layers = len(layers) - 1\n",
    "\n",
    "    # Generate (unscaled) weights\n",
    "    weights_orig = []\n",
    "    for i in range(n_layers):\n",
    "        w = np.random.randn(1000, 1000) / np.sqrt(1000)\n",
    "        weights_orig.append(w)\n",
    "\n",
    "    # Loop through weight variances\n",
    "    entropies = np.empty(len(weight_stds))\n",
    "    for i, sigma in enumerate(weight_stds):\n",
    "        print(\"sigma = \", sigma)\n",
    "        weights = [sigma * w for w in weights_orig]\n",
    "        entropies[i] = dnner.compute_entropy(layers=layers, weights=weights, verbose=0)\n",
    "\n",
    "    return entropies"
   ]
  },
  {
   "cell_type": "markdown",
   "metadata": {},
   "source": [
    "and then run it for two different choices, ReLU-ReLU and hardtanh-hardtanh"
   ]
  },
  {
   "cell_type": "code",
   "execution_count": 8,
   "metadata": {},
   "outputs": [
    {
     "name": "stdout",
     "output_type": "stream",
     "text": [
      "Running experiment w/ ReLU...\n",
      "sigma =  0.1\n",
      "sigma =  0.31622776601683794\n",
      "sigma =  1.0\n",
      "sigma =  3.1622776601683795\n",
      "sigma =  10.0\n",
      "\n",
      "Running experiment w/ hardtanh...\n",
      "sigma =  0.1\n",
      "sigma =  0.31622776601683794\n",
      "sigma =  1.0\n",
      "sigma =  3.1622776601683795\n",
      "sigma =  10.0\n"
     ]
    }
   ],
   "source": [
    "# Parameters\n",
    "weight_stds = np.logspace(-1, 1, 5)\n",
    "var_noise = 1e-5\n",
    "\n",
    "# Run experiment w/ ReLU\n",
    "print(\"Running experiment w/ ReLU...\")\n",
    "layers1 = [Normal(0, 1), ReLU(0), ReLU(var_noise)]\n",
    "es1 = run_experiment(layers1, weight_stds)\n",
    "\n",
    "# Run experiment w/ HardTanh\n",
    "print(\"\\nRunning experiment w/ hardtanh...\")\n",
    "layers2 = [Normal(0, 1), HardTanh(0), HardTanh(var_noise)]\n",
    "es2 = run_experiment(layers2, weight_stds)"
   ]
  },
  {
   "cell_type": "markdown",
   "metadata": {},
   "source": [
    "Finally we plot the results, adding the entropy of linear activations for reference for the hardtanh. Notice this is the same we get in Figure 2 of our paper (left bottom and center bottom respectively)."
   ]
  },
  {
   "cell_type": "code",
   "execution_count": 9,
   "metadata": {},
   "outputs": [],
   "source": [
    "# Generate Gaussian random matrices and compute singular values of the product\n",
    "W1 = np.random.randn(1000, 1000) / np.sqrt(1000)\n",
    "W2 = np.random.randn(1000, 1000) / np.sqrt(1000)\n",
    "W = W1 @ W2\n",
    "s = np.linalg.svd(W, compute_uv=False)\n",
    "\n",
    "# Compute entropy of linear activation\n",
    "s_scaled = np.outer(s, weight_stds ** 2)\n",
    "linear_es = .5 * np.mean(np.log(var_noise + s_scaled ** 2), 0) + .5 * np.log(2 * np.pi * np.e)"
   ]
  },
  {
   "cell_type": "code",
   "execution_count": 10,
   "metadata": {},
   "outputs": [
    {
     "data": {
      "image/png": "[encoded data removed]",
      "text/plain": [
       "<Figure size 576x288 with 2 Axes>"
      ]
     },
     "metadata": {},
     "output_type": "display_data"
    }
   ],
   "source": [
    "# Plot results\n",
    "fig, axs = plt.subplots(1, 2, figsize=(8, 4), sharex=True)\n",
    "\n",
    "axs[0].semilogx(weight_stds, es1, \".-\")\n",
    "axs[0].set_ylabel(\"entropy\")\n",
    "axs[0].set_xlabel(\"weight variances\")\n",
    "axs[0].set_title(\"ReLU-ReLU\")\n",
    "\n",
    "axs[1].semilogx(weight_stds, es2, \".-\")\n",
    "axs[1].set_xlabel(\"weight variances\")\n",
    "axs[1].set_title(\"hardtanh-hardtanh\")\n",
    "axs[1].semilogx(weight_stds, linear_es, \"k-.\", alpha=0.5)\n",
    "\n",
    "fig.set_tight_layout(True)"
   ]
  }
 ],
 "metadata": {
  "kernelspec": {
   "display_name": "Python 3",
   "language": "python",
   "name": "python3"
  },
  "language_info": {
   "codemirror_mode": {
    "name": "ipython",
    "version": 3
   },
   "file_extension": ".py",
   "mimetype": "text/x-python",
   "name": "python",
   "nbconvert_exporter": "python",
   "pygments_lexer": "ipython3",
   "version": "3.6.5"
  }
 },
 "nbformat": 4,
 "nbformat_minor": 2
}
